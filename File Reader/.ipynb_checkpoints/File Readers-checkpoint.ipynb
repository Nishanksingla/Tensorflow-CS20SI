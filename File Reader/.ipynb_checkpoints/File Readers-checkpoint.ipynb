{
 "cells": [
  {
   "cell_type": "markdown",
   "metadata": {},
   "source": [
    "## Implementing File Readers\n",
    "#### Queues and Coordinators"
   ]
  },
  {
   "cell_type": "code",
   "execution_count": 2,
   "metadata": {
    "collapsed": false
   },
   "outputs": [],
   "source": [
    "import tensorflow as tf\n",
    "import numpy as np\n",
    "import matplotlib.pyplot as plt\n",
    "import seaborn as sns"
   ]
  },
  {
   "cell_type": "code",
   "execution_count": 3,
   "metadata": {
    "collapsed": true
   },
   "outputs": [],
   "source": [
    "## List of filenames from which data is to be read\n",
    "filenames = [\"heart.csv\"]\n",
    "\n",
    "## Creating a FIFO Queue under the hood using tf.train.string_input_producer\n",
    "filename_queue = tf.train.string_input_producer(filenames)\n",
    "\n",
    "## Creating a TextLineReader File Reader which reads a single line of text\n",
    "reader = tf.TextLineReader(skip_header_lines=1) # skip the first header line\n",
    "\n",
    "## Reading the string from filename_queue using the reader object\n",
    "key, value = reader.read(filename_queue)"
   ]
  },
  {
   "cell_type": "code",
   "execution_count": 18,
   "metadata": {
    "collapsed": false
   },
   "outputs": [],
   "source": [
    "N_FEATURES = 9\n",
    "\n",
    "## Value will be a string and unfit to feed it to the model\n",
    "## We convert the string to a vector using tf.decode_csv\n",
    "record_defaults = [[1.0] for _ in range(N_FEATURES)]\n",
    "record_defaults[4] = [''] # 4th feature is a string\n",
    "record_defaults.append([1]) # Label is an integer\n",
    "\n",
    "## Using tf.decode_csv to decode string acc. to format provided by record_defaults\n",
    "content = tf.decode_csv(value, record_defaults=record_defaults)"
   ]
  },
  {
   "cell_type": "code",
   "execution_count": 19,
   "metadata": {
    "collapsed": false
   },
   "outputs": [],
   "source": [
    "## Converting the 5th column to binary\n",
    "condition = tf.equal(content[4],tf.constant('Present'))\n",
    "content[4] = tf.where(condition, tf.constant(1.0), tf.constant(0.0))\n",
    "\n",
    "## Packing all 9 features into a tensor\n",
    "features = tf.stack(content[:N_FEATURES])\n",
    "label = content[-1]"
   ]
  },
  {
   "cell_type": "code",
   "execution_count": 20,
   "metadata": {
    "collapsed": true
   },
   "outputs": [],
   "source": [
    "## Data needs to be in batches rather than being in single line form\n",
    "BATCH_SIZE = 20\n",
    "min_after_dequeue = 10*BATCH_SIZE\n",
    "\n",
    "## Maximum capacity of the queue\n",
    "capacity = 20*BATCH_SIZE"
   ]
  },
  {
   "cell_type": "code",
   "execution_count": 25,
   "metadata": {
    "collapsed": false
   },
   "outputs": [
    {
     "name": "stdout",
     "output_type": "stream",
     "text": [
      "=== Printing key/value pairs ===\n",
      "heart.csv:2\n",
      "118,0.08,3.48,32.28,Present,52,29.14,3.81,46,0\n",
      "=== Printing processed feautures/label pairs ===\n",
      "[ 142.            4.05000019    3.38000011   16.20000076    0.           59.\n",
      "   20.80999947    2.61999989   38.        ]\n",
      "0\n",
      "=== Printing batches of features and their corresponding labels ===\n",
      "(20, 9)\n",
      "(20,)\n"
     ]
    }
   ],
   "source": [
    "with tf.Session() as sess:\n",
    "    ## Coordinator to handle multiple threads\n",
    "    coord = tf.train.Coordinator()\n",
    "    \n",
    "    ## Starting the threads using coordinator object\n",
    "    threads = tf.train.start_queue_runners(coord=coord)\n",
    "    \n",
    "    ## Printing the key, value pairs of data generated\n",
    "    print '='*3,\"Printing key/value pairs\",'='*3\n",
    "    print sess.run(key)\n",
    "    print sess.run(value)\n",
    "    \n",
    "    ## Printing the processed values from the above\n",
    "    print '='*3,\"Printing processed feautures/label pairs\",'='*3\n",
    "    print sess.run(features)\n",
    "    print sess.run(label)\n",
    "    \n",
    "    ## Generating the BATCH_SIZE amount of data\n",
    "    data_batch, label_batch = tf.train.shuffle_batch([features, label], batch_size=BATCH_SIZE,\n",
    "                                                    capacity=capacity, min_after_dequeue=min_after_dequeue)\n",
    "    \n",
    "    print '='*3,\"Printing batches of features and their corresponding labels\",\"=\"*3\n",
    "    print data_batch.shape\n",
    "    print label_batch.shape\n",
    "    \n",
    "    coord.request_stop()\n",
    "    coord.join(threads)"
   ]
  },
  {
   "cell_type": "code",
   "execution_count": null,
   "metadata": {
    "collapsed": true
   },
   "outputs": [],
   "source": []
  }
 ],
 "metadata": {
  "anaconda-cloud": {},
  "kernelspec": {
   "display_name": "Python [default]",
   "language": "python",
   "name": "python2"
  },
  "language_info": {
   "codemirror_mode": {
    "name": "ipython",
    "version": 2
   },
   "file_extension": ".py",
   "mimetype": "text/x-python",
   "name": "python",
   "nbconvert_exporter": "python",
   "pygments_lexer": "ipython2",
   "version": "2.7.12"
  }
 },
 "nbformat": 4,
 "nbformat_minor": 1
}
