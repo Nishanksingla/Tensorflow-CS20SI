{
 "cells": [
  {
   "cell_type": "markdown",
   "metadata": {},
   "source": [
    "## Non Linear Autoencoders"
   ]
  },
  {
   "cell_type": "code",
   "execution_count": 19,
   "metadata": {
    "collapsed": true
   },
   "outputs": [],
   "source": [
    "%matplotlib inline\n",
    "import pandas as pd\n",
    "import numpy as np\n",
    "import matplotlib.pyplot as plt\n",
    "import tensorflow as tf\n",
    "import seaborn as sns"
   ]
  },
  {
   "cell_type": "code",
   "execution_count": 20,
   "metadata": {
    "collapsed": true
   },
   "outputs": [],
   "source": [
    "from tensorflow.examples.tutorials.mnist import input_data"
   ]
  },
  {
   "cell_type": "code",
   "execution_count": 21,
   "metadata": {
    "collapsed": false
   },
   "outputs": [
    {
     "name": "stdout",
     "output_type": "stream",
     "text": [
      "Extracting ../MNIST_data/train-images-idx3-ubyte.gz\n",
      "Extracting ../MNIST_data/train-labels-idx1-ubyte.gz\n",
      "Extracting ../MNIST_data/t10k-images-idx3-ubyte.gz\n",
      "Extracting ../MNIST_data/t10k-labels-idx1-ubyte.gz\n"
     ]
    }
   ],
   "source": [
    "mnist = input_data.read_data_sets('../MNIST_data/',one_hot=True)"
   ]
  },
  {
   "cell_type": "code",
   "execution_count": 22,
   "metadata": {
    "collapsed": false
   },
   "outputs": [
    {
     "data": {
      "text/plain": [
       "<matplotlib.image.AxesImage at 0x12025fe50>"
      ]
     },
     "execution_count": 22,
     "metadata": {},
     "output_type": "execute_result"
    },
    {
     "data": {
      "image/png": "[encoded data removed]",
      "text/plain": [
       "<matplotlib.figure.Figure at 0x1205b0150>"
      ]
     },
     "metadata": {},
     "output_type": "display_data"
    }
   ],
   "source": [
    "plt.imshow(mnist.train.images[0].reshape((28,28)),cmap='gray',interpolation=\"nearest\")"
   ]
  },
  {
   "cell_type": "code",
   "execution_count": 47,
   "metadata": {
    "collapsed": true
   },
   "outputs": [],
   "source": [
    "learning_rate = 0.01\n",
    "n_training_examples,n_features = mnist.train.images.shape\n",
    "batch_size = 100\n",
    "n_epochs = 100"
   ]
  },
  {
   "cell_type": "code",
   "execution_count": 48,
   "metadata": {
    "collapsed": true
   },
   "outputs": [],
   "source": [
    "tf.reset_default_graph()"
   ]
  },
  {
   "cell_type": "code",
   "execution_count": 49,
   "metadata": {
    "collapsed": true
   },
   "outputs": [],
   "source": [
    "with tf.variable_scope(\"data\") as scope:\n",
    "    input_image = tf.placeholder(dtype=tf.float32,shape=[None,784],name=\"input\")"
   ]
  },
  {
   "cell_type": "code",
   "execution_count": 50,
   "metadata": {
    "collapsed": true
   },
   "outputs": [],
   "source": [
    "with tf.variable_scope(\"hidden_layer\") as scope:\n",
    "    w = tf.get_variable(name=\"weights\",shape=[784,128],initializer=tf.contrib.layers.xavier_initializer())\n",
    "    b = tf.get_variable(name=\"biases\",shape=[128],initializer=tf.random_normal_initializer())\n",
    "    encoding = tf.nn.relu(tf.matmul(input_image,w) + b)"
   ]
  },
  {
   "cell_type": "code",
   "execution_count": 51,
   "metadata": {
    "collapsed": false
   },
   "outputs": [],
   "source": [
    "with tf.variable_scope(\"output_layer\") as scope:\n",
    "    w = tf.get_variable(name=\"weights\",shape=[128,784],initializer=tf.contrib.layers.xavier_initializer())\n",
    "    b = tf.get_variable(name=\"biases\",shape=[784],initializer=tf.random_normal_initializer())\n",
    "    output_image = tf.matmul(encoding,w) + b"
   ]
  },
  {
   "cell_type": "code",
   "execution_count": 52,
   "metadata": {
    "collapsed": true
   },
   "outputs": [],
   "source": [
    "with tf.variable_scope(\"loss\") as scope:\n",
    "    loss = tf.reduce_mean(tf.squared_difference(input_image,output_image))"
   ]
  },
  {
   "cell_type": "code",
   "execution_count": 53,
   "metadata": {
    "collapsed": true
   },
   "outputs": [],
   "source": [
    "with tf.variable_scope(\"optimizer\") as scope:\n",
    "    optimizer = tf.train.AdagradOptimizer(learning_rate).minimize(loss)"
   ]
  },
  {
   "cell_type": "code",
   "execution_count": 54,
   "metadata": {
    "collapsed": false,
    "scrolled": true
   },
   "outputs": [
    {
     "name": "stdout",
     "output_type": "stream",
     "text": [
      "Epoch: 1\t Loss: 114.051694684\n",
      "Epoch: 2\t Loss: 44.3769447654\n",
      "Epoch: 3\t Loss: 42.0630340427\n",
      "Epoch: 4\t Loss: 40.484398596\n",
      "Epoch: 5\t Loss: 39.3076668307\n",
      "Epoch: 6\t Loss: 38.372906208\n",
      "Epoch: 7\t Loss: 37.5898293555\n",
      "Epoch: 8\t Loss: 36.9051306956\n",
      "Epoch: 9\t Loss: 36.2813824564\n",
      "Epoch: 10\t Loss: 35.6936593466\n",
      "Epoch: 11\t Loss: 35.1266304404\n",
      "Epoch: 12\t Loss: 34.5706646107\n",
      "Epoch: 13\t Loss: 34.0218508951\n",
      "Epoch: 14\t Loss: 33.4778660126\n",
      "Epoch: 15\t Loss: 32.9389003366\n",
      "Epoch: 16\t Loss: 32.4057905935\n",
      "Epoch: 17\t Loss: 31.879738044\n",
      "Epoch: 18\t Loss: 31.3617734388\n",
      "Epoch: 19\t Loss: 30.852421172\n",
      "Epoch: 20\t Loss: 30.3527168706\n",
      "Epoch: 21\t Loss: 29.8619098663\n",
      "Epoch: 22\t Loss: 29.3811007217\n",
      "Epoch: 23\t Loss: 28.9100803621\n",
      "Epoch: 24\t Loss: 28.4493103363\n",
      "Epoch: 25\t Loss: 27.9992557615\n",
      "Epoch: 26\t Loss: 27.5605178066\n",
      "Epoch: 27\t Loss: 27.1335849501\n",
      "Epoch: 28\t Loss: 26.7187242024\n",
      "Epoch: 29\t Loss: 26.3166321926\n",
      "Epoch: 30\t Loss: 25.9274149053\n",
      "Epoch: 31\t Loss: 25.5511623658\n",
      "Epoch: 32\t Loss: 25.1882650517\n",
      "Epoch: 33\t Loss: 24.8383147009\n",
      "Epoch: 34\t Loss: 24.5013127252\n",
      "Epoch: 35\t Loss: 24.1771068051\n",
      "Epoch: 36\t Loss: 23.8652042784\n",
      "Epoch: 37\t Loss: 23.5654122084\n",
      "Epoch: 38\t Loss: 23.2773666643\n",
      "Epoch: 39\t Loss: 23.0005765557\n",
      "Epoch: 40\t Loss: 22.7346823514\n",
      "Epoch: 41\t Loss: 22.4790600948\n",
      "Epoch: 42\t Loss: 22.233501792\n",
      "Epoch: 43\t Loss: 21.9971862994\n",
      "Epoch: 44\t Loss: 21.7697980218\n",
      "Epoch: 45\t Loss: 21.5508762673\n",
      "Epoch: 46\t Loss: 21.3399185799\n",
      "Epoch: 47\t Loss: 21.1364395879\n",
      "Epoch: 48\t Loss: 20.9399429671\n",
      "Epoch: 49\t Loss: 20.7500815205\n",
      "Epoch: 50\t Loss: 20.566382166\n",
      "Epoch: 51\t Loss: 20.3882859461\n",
      "Epoch: 52\t Loss: 20.2156009264\n",
      "Epoch: 53\t Loss: 20.0478675701\n",
      "Epoch: 54\t Loss: 19.8848518655\n",
      "Epoch: 55\t Loss: 19.7262853272\n",
      "Epoch: 56\t Loss: 19.5717186667\n",
      "Epoch: 57\t Loss: 19.4210398383\n",
      "Epoch: 58\t Loss: 19.2739499249\n",
      "Epoch: 59\t Loss: 19.130183218\n",
      "Epoch: 60\t Loss: 18.989470467\n",
      "Epoch: 61\t Loss: 18.8519462626\n",
      "Epoch: 62\t Loss: 18.7172226906\n",
      "Epoch: 63\t Loss: 18.5850717463\n",
      "Epoch: 64\t Loss: 18.4556708131\n",
      "Epoch: 65\t Loss: 18.3286189809\n",
      "Epoch: 66\t Loss: 18.2040103208\n",
      "Epoch: 67\t Loss: 18.0816678908\n",
      "Epoch: 68\t Loss: 17.961475838\n",
      "Epoch: 69\t Loss: 17.84344876\n",
      "Epoch: 70\t Loss: 17.7274723127\n",
      "Epoch: 71\t Loss: 17.6135662496\n",
      "Epoch: 72\t Loss: 17.5015043709\n",
      "Epoch: 73\t Loss: 17.3914026283\n",
      "Epoch: 74\t Loss: 17.2831214834\n",
      "Epoch: 75\t Loss: 17.1766564883\n",
      "Epoch: 76\t Loss: 17.0719708782\n",
      "Epoch: 77\t Loss: 16.9689774327\n",
      "Epoch: 78\t Loss: 16.8676336724\n",
      "Epoch: 79\t Loss: 16.7679895759\n",
      "Epoch: 80\t Loss: 16.6699523032\n",
      "Epoch: 81\t Loss: 16.5735381152\n",
      "Epoch: 82\t Loss: 16.4786082692\n",
      "Epoch: 83\t Loss: 16.3852623589\n",
      "Epoch: 84\t Loss: 16.29339098\n",
      "Epoch: 85\t Loss: 16.2030250896\n",
      "Epoch: 86\t Loss: 16.1139755975\n",
      "Epoch: 87\t Loss: 16.0263374038\n",
      "Epoch: 88\t Loss: 15.9402579069\n",
      "Epoch: 89\t Loss: 15.855342906\n",
      "Epoch: 90\t Loss: 15.7718145624\n",
      "Epoch: 91\t Loss: 15.6896023396\n",
      "Epoch: 92\t Loss: 15.6086113546\n",
      "Epoch: 93\t Loss: 15.5288837682\n",
      "Epoch: 94\t Loss: 15.4503824711\n",
      "Epoch: 95\t Loss: 15.3730661552\n",
      "Epoch: 96\t Loss: 15.2969302125\n",
      "Epoch: 97\t Loss: 15.221866563\n",
      "Epoch: 98\t Loss: 15.1479590982\n",
      "Epoch: 99\t Loss: 15.0751519427\n",
      "Epoch: 100\t Loss: 15.0033744108\n",
      "Checking the output of network on Test data....\n",
      "Error after 10 batches: 0.269919754937\n",
      "Error after 20 batches: 0.27109804377\n",
      "Error after 30 batches: 0.26735717617\n",
      "Error after 40 batches: 0.270253889263\n",
      "Error after 50 batches: 0.264255257323\n",
      "Error after 60 batches: 0.262490360066\n",
      "Error after 70 batches: 0.266797050834\n",
      "Error after 80 batches: 0.268831349909\n",
      "Error after 90 batches: 0.272368231788\n",
      "Error after 100 batches: 0.266832135618\n"
     ]
    }
   ],
   "source": [
    "init = tf.global_variables_initializer()\n",
    "with tf.Session() as sess:\n",
    "    sess.run(init)\n",
    "    writer = tf.summary.FileWriter('graphs/',sess.graph)\n",
    "    ## Training the network\n",
    "    for i in range(n_epochs):\n",
    "        epoch_loss = 0\n",
    "        for batch in range(n_training_examples/batch_size):\n",
    "            x_batch,_ = mnist.train.next_batch(batch_size)\n",
    "            _,l = sess.run([optimizer,loss],feed_dict = {input_image:x_batch})\n",
    "            epoch_loss += l\n",
    "        print 'Epoch: {}\\t Loss: {}'.format(i+1,epoch_loss)\n",
    "    \n",
    "    ## Testing Examples\n",
    "    print 'Checking the output of network on Test data....'\n",
    "    output = []\n",
    "    error = 0\n",
    "    for i in range(n_testing_examples/batch_size):\n",
    "        x_batch,_ = mnist.test.next_batch(batch_size)\n",
    "        l,image = sess.run([loss,output_image],feed_dict = {input_image:x_batch})\n",
    "        output.append(image)\n",
    "        error += l\n",
    "        if (i+1)%10 == 0:\n",
    "            print 'Error after {} batches: {}'.format(i+1,error)\n",
    "            error = 0"
   ]
  },
  {
   "cell_type": "code",
   "execution_count": 55,
   "metadata": {
    "collapsed": false
   },
   "outputs": [
    {
     "name": "stdout",
     "output_type": "stream",
     "text": [
      "(10000, 784)\n"
     ]
    }
   ],
   "source": [
    "output = np.asarray(output).reshape((10000,784))\n",
    "print output.shape"
   ]
  },
  {
   "cell_type": "code",
   "execution_count": 56,
   "metadata": {
    "collapsed": false
   },
   "outputs": [
    {
     "data": {
      "text/plain": [
       "<matplotlib.image.AxesImage at 0x120b4bed0>"
      ]
     },
     "execution_count": 56,
     "metadata": {},
     "output_type": "execute_result"
    },
    {
     "data": {
      "image/png": "[encoded data removed]",
      "text/plain": [
       "<matplotlib.figure.Figure at 0x1261b5310>"
      ]
     },
     "metadata": {},
     "output_type": "display_data"
    }
   ],
   "source": [
    "plt.imshow(output[0].reshape((28,28)),cmap=\"gray\",interpolation=\"nearest\")"
   ]
  },
  {
   "cell_type": "markdown",
   "metadata": {},
   "source": [
    "![Alt Image](graph.png \"Compuational Graph\")"
   ]
  },
  {
   "cell_type": "code",
   "execution_count": null,
   "metadata": {
    "collapsed": true
   },
   "outputs": [],
   "source": []
  }
 ],
 "metadata": {
  "anaconda-cloud": {},
  "kernelspec": {
   "display_name": "Python [default]",
   "language": "python",
   "name": "python2"
  },
  "language_info": {
   "codemirror_mode": {
    "name": "ipython",
    "version": 2
   },
   "file_extension": ".py",
   "mimetype": "text/x-python",
   "name": "python",
   "nbconvert_exporter": "python",
   "pygments_lexer": "ipython2",
   "version": "2.7.12"
  }
 },
 "nbformat": 4,
 "nbformat_minor": 1
}
