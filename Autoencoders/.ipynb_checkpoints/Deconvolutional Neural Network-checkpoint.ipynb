{
 "cells": [
  {
   "cell_type": "markdown",
   "metadata": {},
   "source": [
    "## Visualising and Understanding CNNs\n",
    "Matthew D Zeiler, Rob Fergus\n",
    "\n",
    "https://arxiv.org/abs/1311.2901"
   ]
  },
  {
   "cell_type": "code",
   "execution_count": 1,
   "metadata": {
    "collapsed": true
   },
   "outputs": [],
   "source": [
    "%matplotlib inline\n",
    "import pandas as pd\n",
    "import numpy as np\n",
    "import tensorflow as tf\n",
    "import seaborn as sns\n",
    "import matplotlib.pyplot as plt"
   ]
  },
  {
   "cell_type": "code",
   "execution_count": 16,
   "metadata": {
    "collapsed": false
   },
   "outputs": [],
   "source": [
    "from tqdm import tqdm\n",
    "import time"
   ]
  },
  {
   "cell_type": "code",
   "execution_count": 2,
   "metadata": {
    "collapsed": true
   },
   "outputs": [],
   "source": [
    "from tensorflow.examples.tutorials.mnist import input_data"
   ]
  },
  {
   "cell_type": "code",
   "execution_count": 3,
   "metadata": {
    "collapsed": false
   },
   "outputs": [
    {
     "name": "stdout",
     "output_type": "stream",
     "text": [
      "Extracting ../MNIST_data/train-images-idx3-ubyte.gz\n",
      "Extracting ../MNIST_data/train-labels-idx1-ubyte.gz\n",
      "Extracting ../MNIST_data/t10k-images-idx3-ubyte.gz\n",
      "Extracting ../MNIST_data/t10k-labels-idx1-ubyte.gz\n",
      "(55000, 784)\n",
      "(10000, 784)\n"
     ]
    }
   ],
   "source": [
    "mnist = input_data.read_data_sets('../MNIST_data/',one_hot=True)\n",
    "print mnist.train.images.shape\n",
    "print mnist.test.images.shape"
   ]
  },
  {
   "cell_type": "markdown",
   "metadata": {},
   "source": [
    "### Implementing a CNN"
   ]
  },
  {
   "cell_type": "code",
   "execution_count": 4,
   "metadata": {
    "collapsed": true
   },
   "outputs": [],
   "source": [
    "tf.reset_default_graph()"
   ]
  },
  {
   "cell_type": "code",
   "execution_count": 5,
   "metadata": {
    "collapsed": true
   },
   "outputs": [],
   "source": [
    "with tf.variable_scope(\"placeholder\") as scope:\n",
    "    input_image = tf.placeholder(dtype=tf.float32,shape=[None,28,28,1],name=\"input\")\n",
    "    y = tf.placeholder(dtype=tf.float32,shape=[None,10],name=\"output\")"
   ]
  },
  {
   "cell_type": "code",
   "execution_count": 6,
   "metadata": {
    "collapsed": false
   },
   "outputs": [],
   "source": [
    "with tf.variable_scope(\"conv1\") as scope:\n",
    "    w = tf.get_variable(name=\"weights\",shape=[5,5,1,32],initializer=tf.contrib.layers.xavier_initializer_conv2d())\n",
    "    b = tf.get_variable(name=\"biases\",shape=[32],initializer=tf.random_normal_initializer())\n",
    "    conv = tf.nn.conv2d(input_image,w,strides=[1,1,1,1],padding=\"SAME\")\n",
    "    relu = tf.nn.relu(conv+b,name=scope.name)\n",
    "    conv1 = tf.nn.max_pool(relu,ksize=[1,2,2,1],strides=[1,2,2,1],padding=\"SAME\")"
   ]
  },
  {
   "cell_type": "code",
   "execution_count": 7,
   "metadata": {
    "collapsed": true
   },
   "outputs": [],
   "source": [
    "with tf.variable_scope(\"conv2\") as scope:\n",
    "    w = tf.get_variable(name=\"weights\",shape=[5,5,32,64],initializer=tf.contrib.layers.xavier_initializer_conv2d())\n",
    "    b = tf.get_variable(name=\"biases\",shape=[64],initializer=tf.random_normal_initializer())\n",
    "    conv = tf.nn.conv2d(conv1,w,strides=[1,1,1,1],padding=\"SAME\")\n",
    "    relu = tf.nn.relu(conv+b,name=scope.name)\n",
    "    conv2 = tf.nn.max_pool(relu,ksize=[1,2,2,1],strides=[1,2,2,1],padding=\"SAME\")"
   ]
  },
  {
   "cell_type": "code",
   "execution_count": 8,
   "metadata": {
    "collapsed": false
   },
   "outputs": [],
   "source": [
    "with tf.variable_scope(\"fully_connected\") as scope:\n",
    "    w = tf.get_variable(name=\"weights\",shape=[7*7*64,1024],initializer=tf.contrib.layers.xavier_initializer())\n",
    "    b = tf.get_variable(name=\"biases\",shape=[1024],initializer=tf.random_normal_initializer())\n",
    "    out = tf.nn.relu(tf.matmul(tf.reshape(conv2,[-1,7*7*64]),w) + b)"
   ]
  },
  {
   "cell_type": "code",
   "execution_count": 9,
   "metadata": {
    "collapsed": true
   },
   "outputs": [],
   "source": [
    "with tf.variable_scope(\"dropout\") as scope:\n",
    "    keep_probs = tf.placeholder(dtype=tf.float32,name=\"probability\")\n",
    "    dropout = tf.nn.dropout(out,keep_prob=keep_probs)"
   ]
  },
  {
   "cell_type": "code",
   "execution_count": 10,
   "metadata": {
    "collapsed": true
   },
   "outputs": [],
   "source": [
    "with tf.variable_scope(\"softmax\") as scope:\n",
    "    w = tf.get_variable(name=\"weights\",shape=[1024,10],initializer=tf.contrib.layers.xavier_initializer())\n",
    "    b = tf.get_variable(name=\"biases\",shape=[10],initializer=tf.random_normal_initializer())\n",
    "    out = tf.matmul(dropout,w) + b\n",
    "    logits = tf.nn.softmax(out)"
   ]
  },
  {
   "cell_type": "code",
   "execution_count": 11,
   "metadata": {
    "collapsed": true
   },
   "outputs": [],
   "source": [
    "with tf.variable_scope(\"loss\") as scope:\n",
    "    loss = tf.reduce_mean(-tf.reduce_sum(y*tf.log(logits),reduction_indices=[1]))"
   ]
  },
  {
   "cell_type": "code",
   "execution_count": 12,
   "metadata": {
    "collapsed": true
   },
   "outputs": [],
   "source": [
    "with tf.variable_scope(\"optimizer\") as scope:\n",
    "    optimizer = tf.train.AdagradOptimizer(0.01).minimize(loss)"
   ]
  },
  {
   "cell_type": "code",
   "execution_count": 13,
   "metadata": {
    "collapsed": false
   },
   "outputs": [],
   "source": [
    "with tf.variable_scope(\"accuracy\") as scope:\n",
    "    accuracy = tf.reduce_mean(tf.cast(tf.equal(tf.arg_max(logits,1),tf.arg_max(y,1)),dtype=tf.float32))"
   ]
  },
  {
   "cell_type": "code",
   "execution_count": 14,
   "metadata": {
    "collapsed": true
   },
   "outputs": [],
   "source": [
    "sess = tf.Session()\n",
    "init = tf.global_variables_initializer()\n",
    "sess.run(init)"
   ]
  },
  {
   "cell_type": "code",
   "execution_count": 15,
   "metadata": {
    "collapsed": true
   },
   "outputs": [],
   "source": [
    "n_training,n_features = mnist.train.images.shape\n",
    "n_epochs = 5\n",
    "batch_size = 100\n",
    "n_batches = n_training/batch_size\n",
    "n_testing = mnist.test.images.shape[0]"
   ]
  },
  {
   "cell_type": "code",
   "execution_count": null,
   "metadata": {
    "collapsed": false
   },
   "outputs": [],
   "source": [
    "for i in range(n_epochs):\n",
    "    epoch_loss,epoch_acc = 0,0\n",
    "    for _ in tqdm(range(n_batches)):\n",
    "        x_batch,y_batch = mnist.train.next_batch(batch_size)\n",
    "        x_batch = x_batch.reshape((batch_size,28,28,1))\n",
    "        _,l,acc = sess.run([optimizer,loss,accuracy],feed_dict = {input_image:x_batch,y:y_batch,keep_probs:0.5})\n",
    "        epoch_loss += l\n",
    "        epoch_acc += acc\n",
    "    print 'Epoch: {}\\tLoss: {}\\tAccuracy: {}'.format(i,epoch_loss,epoch_acc/batch_size)"
   ]
  },
  {
   "cell_type": "code",
   "execution_count": null,
   "metadata": {
    "collapsed": false
   },
   "outputs": [],
   "source": []
  },
  {
   "cell_type": "code",
   "execution_count": null,
   "metadata": {
    "collapsed": false
   },
   "outputs": [],
   "source": []
  },
  {
   "cell_type": "code",
   "execution_count": null,
   "metadata": {
    "collapsed": true
   },
   "outputs": [],
   "source": []
  }
 ],
 "metadata": {
  "anaconda-cloud": {},
  "kernelspec": {
   "display_name": "Python [default]",
   "language": "python",
   "name": "python2"
  },
  "language_info": {
   "codemirror_mode": {
    "name": "ipython",
    "version": 2
   },
   "file_extension": ".py",
   "mimetype": "text/x-python",
   "name": "python",
   "nbconvert_exporter": "python",
   "pygments_lexer": "ipython2",
   "version": "2.7.12"
  }
 },
 "nbformat": 4,
 "nbformat_minor": 1
}
